{
 "cells": [
  {
   "cell_type": "markdown",
   "id": "759d04ba",
   "metadata": {},
   "source": [
    "**1-Write a Python program to calculate the length of a string using 2 ways"
   ]
  },
  {
   "cell_type": "code",
   "execution_count": 1,
   "id": "e434c950",
   "metadata": {},
   "outputs": [
    {
     "name": "stdout",
     "output_type": "stream",
     "text": [
      "Enter a string: kareem\n",
      "Length of the input string is: 6\n"
     ]
    }
   ],
   "source": [
    "str = input(\"Enter a string: \")\n",
    "print(\"Length of the input string is:\", len(str))"
   ]
  },
  {
   "cell_type": "code",
   "execution_count": 4,
   "id": "7a2dfa32",
   "metadata": {},
   "outputs": [
    {
     "name": "stdout",
     "output_type": "stream",
     "text": [
      "enter string : dddd\n",
      "1\n",
      "2\n",
      "3\n",
      "4\n"
     ]
    }
   ],
   "source": [
    "str=input(\"enter string : \")\n",
    "count=0\n",
    "for i in str :\n",
    " count=count+1\n",
    " print(count)"
   ]
  },
  {
   "cell_type": "markdown",
   "id": "d7cc9da7",
   "metadata": {},
   "source": [
    "**2-Write a Python program to get a string made of the first 2 and last 2 characters of a given string. If the string length is less than 2, return the empty string instead (\"##Sample String : 'w3resource'\n",
    "Expected Result : 'w3ce'\n",
    "##Sample String : 'w3'\n",
    "Expected Result : 'w3w3'\n",
    "##Sample String : ' w'\n",
    "Expected Result : Empty String)"
   ]
  },
  {
   "cell_type": "code",
   "execution_count": 13,
   "id": "dafa9dd8",
   "metadata": {},
   "outputs": [
    {
     "name": "stdout",
     "output_type": "stream",
     "text": [
      "Sample String: w3resource\n",
      "Expected Result: w3ce\n",
      "Sample String: w3\n",
      "Expected Result: w3w3\n",
      "Sample String:  w\n",
      "Expected Result:  w w\n"
     ]
    }
   ],
   "source": [
    "def get_string(string):\n",
    "    if len(string) < 2:\n",
    "        return ''\n",
    "    else:\n",
    "        return string[:2] + string[-2:]\n",
    "\n",
    "print(get_string('w3resource')) \n",
    "print(get_string('w3')) \n",
    "print(get_string(' w')) "
   ]
  },
  {
   "cell_type": "markdown",
   "id": "1534f956",
   "metadata": {},
   "source": [
    "**3-Write a Python program to add 'ing' at the end of a given string (length should be at least 3). If the given string already ends with 'ing', add 'ly' instead. If the string length of the given string is less than 3, leave it unchanged. (Sample String : 'abc'\n",
    "Expected Result : 'abcing')"
   ]
  },
  {
   "cell_type": "code",
   "execution_count": 18,
   "id": "7ff8cec4",
   "metadata": {},
   "outputs": [
    {
     "name": "stdout",
     "output_type": "stream",
     "text": [
      "Sample String: abc\n",
      "Expected Result: abcing\n"
     ]
    }
   ],
   "source": [
    "def add_ing_or_ly(s):\n",
    "    if len(s) < 3:\n",
    "        return s\n",
    "    if s.endswith('ing'):\n",
    "        return s + 'ly'\n",
    "    else:\n",
    "        return s + 'ing'\n",
    "sample_string = 'abc'\n",
    "result = add_ing_or_ly(sample_string)\n",
    "print(\"Sample String:\", sample_string)\n",
    "print(\"Expected Result:\", result)\n"
   ]
  },
  {
   "cell_type": "markdown",
   "id": "1c0a6627",
   "metadata": {},
   "source": [
    "**4-Write a Python function that takes a list of words and return the longest word and the length of the longest one\n",
    "(Longest word: Exercises\n",
    "Length of the longest word: 9)"
   ]
  },
  {
   "cell_type": "code",
   "execution_count": 19,
   "id": "397341d9",
   "metadata": {},
   "outputs": [
    {
     "name": "stdout",
     "output_type": "stream",
     "text": [
      "List of Words: ['Python', 'Exercises', 'Language', 'Programming', 'Longest']\n",
      "Longest Word: Programming\n",
      "Length of Longest Word: 11\n"
     ]
    }
   ],
   "source": [
    "def find_longest_word(words_list):\n",
    "    if not words_list:\n",
    "        return None, 0\n",
    "\n",
    "    longest_word = words_list[0]\n",
    "    longest_length = len(longest_word)\n",
    "\n",
    "    for word in words_list:\n",
    "        if len(word) > longest_length:\n",
    "            longest_word = word\n",
    "            longest_length = len(word)\n",
    "\n",
    "    return longest_word, longest_length\n",
    "\n",
    "\n",
    "words_list = ['Python', 'Exercises', 'Language', 'Programming', 'Longest']\n",
    "longest_word, longest_length = find_longest_word(words_list)\n",
    "\n",
    "print(\"List of Words:\", words_list)\n",
    "print(\"Longest Word:\", longest_word)\n",
    "print(\"Length of Longest Word:\", longest_length)\n"
   ]
  },
  {
   "cell_type": "markdown",
   "id": "53a03a6a",
   "metadata": {},
   "source": [
    "**5-Write a Python program to change a given string to a newly string where the first and last chars have been exchanged using 2 ways (Sample String:abca  Expected Result:ebce)"
   ]
  },
  {
   "cell_type": "code",
   "execution_count": 20,
   "id": "fd327d2a",
   "metadata": {},
   "outputs": [
    {
     "name": "stdout",
     "output_type": "stream",
     "text": [
      "Sample String: abca\n",
      "Expected Result (Method 1): abca\n"
     ]
    }
   ],
   "source": [
    "def exchange_first_last_chars_method1(s):\n",
    "    if len(s) < 2:\n",
    "        return s\n",
    "    else:\n",
    "        return s[-1] + s[1:-1] + s[0]\n",
    "sample_string = 'abca'\n",
    "result_method1 = exchange_first_last_chars_method1(sample_string)\n",
    "print(\"Sample String:\", sample_string)\n",
    "print(\"Expected Result (Method 1):\", result_method1)\n"
   ]
  },
  {
   "cell_type": "code",
   "execution_count": 21,
   "id": "285788b4",
   "metadata": {},
   "outputs": [
    {
     "name": "stdout",
     "output_type": "stream",
     "text": [
      "Sample String: abca\n",
      "Expected Result (Method 2): abca\n"
     ]
    }
   ],
   "source": [
    "def exchange_first_last_chars_method2(s):\n",
    "    if len(s) < 2:\n",
    "        return s\n",
    "    else:\n",
    "        char_list = list(s)\n",
    "        char_list[0], char_list[-1] = char_list[-1], char_list[0]\n",
    "        return ''.join(char_list)\n",
    "sample_string = 'abca'\n",
    "result_method2 = exchange_first_last_chars_method2(sample_string)\n",
    "print(\"Sample String:\", sample_string)\n",
    "print(\"Expected Result (Method 2):\", result_method2)\n"
   ]
  },
  {
   "cell_type": "markdown",
   "id": "25f89808",
   "metadata": {},
   "source": [
    "**6-Write a Python program to remove characters that have odd index values in a given string (Sample String:abca Expected Result:ac)"
   ]
  },
  {
   "cell_type": "code",
   "execution_count": 22,
   "id": "05959bd7",
   "metadata": {},
   "outputs": [
    {
     "name": "stdout",
     "output_type": "stream",
     "text": [
      "Sample String: abca\n",
      "Expected Result: ac\n"
     ]
    }
   ],
   "source": [
    "def remove_odd_index_chars(s):\n",
    "    return s[::2]\n",
    "sample_string = 'abca'\n",
    "result = remove_odd_index_chars(sample_string)\n",
    "print(\"Sample String:\", sample_string)\n",
    "print(\"Expected Result:\", result)\n"
   ]
  },
  {
   "cell_type": "markdown",
   "id": "eb16e898",
   "metadata": {},
   "source": [
    "**7-Write a Python program to count the occurrences of each word in a given sentence (Sample String:amr and ahmed are frindes but amr is the tallest Expected Result:2)"
   ]
  },
  {
   "cell_type": "code",
   "execution_count": 23,
   "id": "01ce6cf5",
   "metadata": {},
   "outputs": [
    {
     "name": "stdout",
     "output_type": "stream",
     "text": [
      "Sample String: amr and ahmed are friends but amr is the tallest\n",
      "Occurrences of 'amr': 2\n"
     ]
    }
   ],
   "source": [
    "def count_word_occurrences(sentence):\n",
    "    words = sentence.split()\n",
    "    word_freq = {}\n",
    "    for word in words:\n",
    "        word_freq[word] = word_freq.get(word, 0) + 1\n",
    "\n",
    "    return word_freq\n",
    "sample_string = \"amr and ahmed are friends but amr is the tallest\"\n",
    "word_occurrences = count_word_occurrences(sample_string)\n",
    "word_to_count = 'amr'\n",
    "result = word_occurrences.get(word_to_count, 0)\n",
    "print(\"Sample String:\", sample_string)\n",
    "print(f\"Occurrences of '{word_to_count}': {result}\")\n"
   ]
  },
  {
   "cell_type": "markdown",
   "id": "4e8125f1",
   "metadata": {},
   "source": [
    "**8-Write a Python script that takes input from the user and displays that input back in upper and lower cases"
   ]
  },
  {
   "cell_type": "code",
   "execution_count": 27,
   "id": "66c8f778",
   "metadata": {},
   "outputs": [
    {
     "name": "stdout",
     "output_type": "stream",
     "text": [
      "Enter some text: kareem\n",
      "Uppercase: KAREEM\n",
      "Lowercase: kareem\n"
     ]
    }
   ],
   "source": [
    "def display_input_cases():\n",
    "    user_input = input(\"Enter some text: \")\n",
    "    # Display in uppercase\n",
    "    print(\"Uppercase:\", user_input.upper())\n",
    "    # Display in lowercase\n",
    "    print(\"Lowercase:\", user_input.lower())\n",
    "if __name__ == \"__main__\":\n",
    "    display_input_cases()\n"
   ]
  },
  {
   "cell_type": "markdown",
   "id": "fcd68aa1",
   "metadata": {},
   "source": [
    "**9-Write a Python function to reverse a string if its length is a multiple of 4"
   ]
  },
  {
   "cell_type": "code",
   "execution_count": 28,
   "id": "0671a931",
   "metadata": {},
   "outputs": [
    {
     "name": "stdout",
     "output_type": "stream",
     "text": [
      "Sample String 1: abcd\n",
      "Reversed (if multiple of 4): dcba\n",
      "Sample String 2: hello\n",
      "Reversed (if multiple of 4): hello\n"
     ]
    }
   ],
   "source": [
    "def reverse_if_multiple_of_4(s):\n",
    "    if len(s) % 4 == 0:\n",
    "        return s[::-1]\n",
    "    else:\n",
    "        return s\n",
    "# Sample usage\n",
    "sample_string_1 = 'abcd'  # Length is a multiple of 4 (4 characters)\n",
    "sample_string_2 = 'hello' # Length is not a multiple of 4 (5 characters)\n",
    "\n",
    "result_1 = reverse_if_multiple_of_4(sample_string_1)\n",
    "result_2 = reverse_if_multiple_of_4(sample_string_2)\n",
    "\n",
    "print(\"Sample String 1:\", sample_string_1)\n",
    "print(\"Reversed (if multiple of 4):\", result_1)\n",
    "\n",
    "print(\"Sample String 2:\", sample_string_2)\n",
    "print(\"Reversed (if multiple of 4):\", result_2)\n"
   ]
  },
  {
   "cell_type": "markdown",
   "id": "b577c68d",
   "metadata": {},
   "source": [
    "**10- Write a Python program to remove a newline in Python"
   ]
  },
  {
   "cell_type": "code",
   "execution_count": 29,
   "id": "e0c6525a",
   "metadata": {},
   "outputs": [
    {
     "name": "stdout",
     "output_type": "stream",
     "text": [
      "Original String: 'Hello World!\\n'\n",
      "String without Newline: 'Hello World!'\n"
     ]
    }
   ],
   "source": [
    "def remove_newline_with_rstrip(s):\n",
    "    return s.rstrip(\"\\n\")\n",
    "\n",
    "# Sample usage\n",
    "sample_string = \"Hello World!\\n\"\n",
    "result = remove_newline_with_rstrip(sample_string)\n",
    "print(\"Original String:\", repr(sample_string))\n",
    "print(\"String without Newline:\", repr(result))\n"
   ]
  },
  {
   "cell_type": "markdown",
   "id": "80db5ae0",
   "metadata": {},
   "source": [
    "**11-Write a Python program to check whether a string starts with specified characters"
   ]
  },
  {
   "cell_type": "code",
   "execution_count": 31,
   "id": "0cc4e03e",
   "metadata": {},
   "outputs": [
    {
     "name": "stdout",
     "output_type": "stream",
     "text": [
      "Sample String: Hello, world!\n",
      "Starts with 'Hello'? True\n"
     ]
    }
   ],
   "source": [
    "def check_starts_with(s, specified_chars):\n",
    "    return s.startswith(specified_chars)\n",
    "\n",
    "# Sample usage\n",
    "sample_string = \"Hello, world!\"\n",
    "specified_chars = \"Hello\"\n",
    "\n",
    "result = check_starts_with(sample_string, specified_chars)\n",
    "print(\"Sample String:\", sample_string)\n",
    "print(\"Starts with '{}'?\".format(specified_chars), result)\n"
   ]
  },
  {
   "cell_type": "markdown",
   "id": "593a68db",
   "metadata": {},
   "source": [
    "**12- Write a Python program to add prefix text to all of the lines in a string"
   ]
  },
  {
   "cell_type": "code",
   "execution_count": 32,
   "id": "d2e46ada",
   "metadata": {},
   "outputs": [
    {
     "name": "stdout",
     "output_type": "stream",
     "text": [
      "> This is line 1.\n",
      "> This is line 2.\n",
      "> This is line 3.\n"
     ]
    }
   ],
   "source": [
    "def add_prefix_to_lines(text, prefix):\n",
    "    lines = text.splitlines()\n",
    "    result = \"\\n\".join([prefix + line for line in lines])\n",
    "    return result\n",
    "\n",
    "# Sample usage\n",
    "sample_string = \"This is line 1.\\nThis is line 2.\\nThis is line 3.\"\n",
    "prefix_text = \"> \"\n",
    "\n",
    "result = add_prefix_to_lines(sample_string, prefix_text)\n",
    "print(result)\n"
   ]
  },
  {
   "cell_type": "markdown",
   "id": "86fa1543",
   "metadata": {},
   "source": [
    "**13-Write a Python program to print the following numbers up to 2 decimal places"
   ]
  },
  {
   "cell_type": "code",
   "execution_count": 33,
   "id": "cd4a9d89",
   "metadata": {},
   "outputs": [
    {
     "name": "stdout",
     "output_type": "stream",
     "text": [
      "3.14\n",
      "1.23\n",
      "9.88\n"
     ]
    }
   ],
   "source": [
    "def print_numbers_formatted(numbers):\n",
    "    for number in numbers:\n",
    "        print(\"{:.2f}\".format(number))\n",
    "\n",
    "# Sample usage\n",
    "numbers_list = [3.14159, 1.2345678, 9.87654321]\n",
    "print_numbers_formatted(numbers_list)\n"
   ]
  },
  {
   "cell_type": "markdown",
   "id": "452c0ab0",
   "metadata": {},
   "source": [
    "**14-Write a Python program to print the following numbers up to 2 decimal places with a sign"
   ]
  },
  {
   "cell_type": "code",
   "execution_count": 34,
   "id": "73e82479",
   "metadata": {},
   "outputs": [
    {
     "name": "stdout",
     "output_type": "stream",
     "text": [
      "+3.14\n",
      "-1.23\n",
      "+9.88\n"
     ]
    }
   ],
   "source": [
    "def print_numbers_with_sign(numbers):\n",
    "    for number in numbers:\n",
    "        print(\"{:+.2f}\".format(number))\n",
    "\n",
    "# Sample usage\n",
    "numbers_list = [3.14159, -1.2345678, 9.87654321]\n",
    "print_numbers_with_sign(numbers_list)\n"
   ]
  },
  {
   "cell_type": "markdown",
   "id": "32b1811a",
   "metadata": {},
   "source": [
    "**15-Write a Python program to display a number with a comma separator"
   ]
  },
  {
   "cell_type": "code",
   "execution_count": 35,
   "id": "f30fc0b6",
   "metadata": {},
   "outputs": [
    {
     "name": "stdout",
     "output_type": "stream",
     "text": [
      "1,234,567,890\n"
     ]
    }
   ],
   "source": [
    "def display_number_with_comma(number):\n",
    "    formatted_number = \"{:,}\".format(number)\n",
    "    print(formatted_number)\n",
    "\n",
    "# Sample usage\n",
    "number_to_display = 1234567890\n",
    "display_number_with_comma(number_to_display)\n"
   ]
  },
  {
   "cell_type": "markdown",
   "id": "0477f487",
   "metadata": {},
   "source": [
    "**16-Write a Python program to reverse a string using 2 ways"
   ]
  },
  {
   "cell_type": "code",
   "execution_count": 36,
   "id": "aa8beec8",
   "metadata": {},
   "outputs": [
    {
     "name": "stdout",
     "output_type": "stream",
     "text": [
      "Original String: Hello, World!\n",
      "Reversed String (Method 2): !dlroW ,olleH\n"
     ]
    }
   ],
   "source": [
    "def reverse_string_method2(s):\n",
    "    reversed_string = \"\"\n",
    "    for char in s:\n",
    "        reversed_string = char + reversed_string\n",
    "    return reversed_string\n",
    "\n",
    "# Sample usage\n",
    "sample_string = 'Hello, World!'\n",
    "reversed_string_method2 = reverse_string_method2(sample_string)\n",
    "print(\"Original String:\", sample_string)\n",
    "print(\"Reversed String (Method 2):\", reversed_string_method2)\n"
   ]
  },
  {
   "cell_type": "markdown",
   "id": "5afc3166",
   "metadata": {},
   "source": [
    " **17-Write a Python program to count repeated characters in a string (hint:use dictionary)"
   ]
  },
  {
   "cell_type": "code",
   "execution_count": 37,
   "id": "515a469c",
   "metadata": {},
   "outputs": [
    {
     "name": "stdout",
     "output_type": "stream",
     "text": [
      "Sample String: hello, world!\n",
      "Repeated Characters: {'l': 3, 'o': 2}\n"
     ]
    }
   ],
   "source": [
    "def count_repeated_characters(s):\n",
    "    char_frequency = {}\n",
    "    \n",
    "    for char in s:\n",
    "        char_frequency[char] = char_frequency.get(char, 0) + 1\n",
    "\n",
    "    repeated_characters = {char: count for char, count in char_frequency.items() if count > 1}\n",
    "    return repeated_characters\n",
    "\n",
    "# Sample usage\n",
    "sample_string = \"hello, world!\"\n",
    "repeated_chars = count_repeated_characters(sample_string)\n",
    "\n",
    "print(\"Sample String:\", sample_string)\n",
    "print(\"Repeated Characters:\", repeated_chars)\n"
   ]
  },
  {
   "cell_type": "markdown",
   "id": "ae14e4e5",
   "metadata": {},
   "source": [
    "**18-Write a Python program to find the first non-repeating character in a given string"
   ]
  },
  {
   "cell_type": "code",
   "execution_count": 38,
   "id": "d73778e5",
   "metadata": {},
   "outputs": [
    {
     "name": "stdout",
     "output_type": "stream",
     "text": [
      "Sample String: hello, world!\n",
      "First Non-Repeating Character: h\n"
     ]
    }
   ],
   "source": [
    "def find_first_non_repeating_char(s):\n",
    "    char_frequency = {}\n",
    "\n",
    "    # Count the frequency of each character\n",
    "    for char in s:\n",
    "        char_frequency[char] = char_frequency.get(char, 0) + 1\n",
    "\n",
    "    # Find the first non-repeating character\n",
    "    for char in s:\n",
    "        if char_frequency[char] == 1:\n",
    "            return char\n",
    "\n",
    "    # If no non-repeating character found\n",
    "    return None\n",
    "\n",
    "# Sample usage\n",
    "sample_string = \"hello, world!\"\n",
    "result = find_first_non_repeating_char(sample_string)\n",
    "\n",
    "print(\"Sample String:\", sample_string)\n",
    "print(\"First Non-Repeating Character:\", result)\n"
   ]
  },
  {
   "cell_type": "markdown",
   "id": "3adf5669",
   "metadata": {},
   "source": [
    "**19-Write a Python program to remove spaces from a given string"
   ]
  },
  {
   "cell_type": "code",
   "execution_count": 2,
   "id": "b4f22602",
   "metadata": {},
   "outputs": [
    {
     "name": "stdout",
     "output_type": "stream",
     "text": [
      "String without Spaces: Hello,World!\n"
     ]
    }
   ],
   "source": [
    "def remove_spaces(s):\n",
    "    return s.replace(\" \", \"\")\n",
    "sample_string = \"Hello, World!\"\n",
    "result = remove_spaces(sample_string)\n",
    "print(\"String without Spaces:\", result)\n"
   ]
  },
  {
   "cell_type": "markdown",
   "id": "734de60c",
   "metadata": {},
   "source": [
    "**20-Write a Python program to count the number of non-empty substrings of a given string"
   ]
  },
  {
   "cell_type": "code",
   "execution_count": 3,
   "id": "ef3f2274",
   "metadata": {},
   "outputs": [
    {
     "name": "stdout",
     "output_type": "stream",
     "text": [
      "Number of Non-Empty Substrings: 10\n"
     ]
    }
   ],
   "source": [
    "def count_non_empty_substrings(s):\n",
    "    n = len(s)\n",
    "    return n * (n + 1) // 2\n",
    "sample_string = \"abcd\"\n",
    "result = count_non_empty_substrings(sample_string)\n",
    "print(\"Number of Non-Empty Substrings:\", result)\n"
   ]
  },
  {
   "cell_type": "markdown",
   "id": "509998e2",
   "metadata": {},
   "source": [
    "**21-write a Python program to swap first and last element of any list."
   ]
  },
  {
   "cell_type": "code",
   "execution_count": 4,
   "id": "68692d7f",
   "metadata": {},
   "outputs": [
    {
     "name": "stdout",
     "output_type": "stream",
     "text": [
      "Original List: [1, 2, 3, 4, 5]\n",
      "List after Swapping: [5, 2, 3, 4, 1]\n"
     ]
    }
   ],
   "source": [
    "def swap_first_last_element(lst):\n",
    "    if len(lst) >= 2:\n",
    "        lst[0], lst[-1] = lst[-1], lst[0]\n",
    "sample_list = [1, 2, 3, 4, 5]\n",
    "print(\"Original List:\", sample_list)\n",
    "swap_first_last_element(sample_list)\n",
    "print(\"List after Swapping:\", sample_list)\n"
   ]
  },
  {
   "cell_type": "markdown",
   "id": "959e0837",
   "metadata": {},
   "source": [
    "**22-Given a list in Python and provided the positions of the elements, write a program to swap the two elements in the list. (Input : List = [23, 65, 19, 90], pos1 = 1, pos2 = 3\n",
    "Output : [19, 65, 23, 90])"
   ]
  },
  {
   "cell_type": "code",
   "execution_count": 5,
   "id": "225d8c6d",
   "metadata": {},
   "outputs": [
    {
     "name": "stdout",
     "output_type": "stream",
     "text": [
      "Original List: [23, 65, 19, 90]\n",
      "List after Swapping: [23, 90, 19, 65]\n"
     ]
    }
   ],
   "source": [
    "def swap_elements(lst, pos1, pos2):\n",
    "    if 0 <= pos1 < len(lst) and 0 <= pos2 < len(lst):\n",
    "        lst[pos1], lst[pos2] = lst[pos2], lst[pos1]\n",
    "sample_list = [23, 65, 19, 90]\n",
    "pos1 = 1\n",
    "pos2 = 3\n",
    "print(\"Original List:\", sample_list)\n",
    "swap_elements(sample_list, pos1, pos2)\n",
    "print(\"List after Swapping:\", sample_list)\n"
   ]
  },
  {
   "cell_type": "markdown",
   "id": "66fc6682",
   "metadata": {},
   "source": [
    "**23- search for the all ways to know the length of the list"
   ]
  },
  {
   "cell_type": "code",
   "execution_count": 6,
   "id": "07aa5c92",
   "metadata": {},
   "outputs": [
    {
     "name": "stdout",
     "output_type": "stream",
     "text": [
      "Length of the list: 5\n"
     ]
    }
   ],
   "source": [
    "my_list = [1, 2, 3, 4, 5]\n",
    "length = len(my_list)\n",
    "print(\"Length of the list:\", length)"
   ]
  },
  {
   "cell_type": "code",
   "execution_count": null,
   "id": "63ff8b43",
   "metadata": {},
   "outputs": [],
   "source": [
    "**24-write a Python code to find the Maximum number of list of numbers."
   ]
  },
  {
   "cell_type": "code",
   "execution_count": 8,
   "id": "15f342de",
   "metadata": {},
   "outputs": [
    {
     "name": "stdout",
     "output_type": "stream",
     "text": [
      "List of Numbers: [10, 25, 5, 100, 1, 50]\n",
      "Maximum Number: 100\n"
     ]
    }
   ],
   "source": [
    "def find_maximum_number(numbers_list):\n",
    "    if len(numbers_list) == 0:\n",
    "        return None\n",
    "    else:\n",
    "        return max(numbers_list)\n",
    "numbers = [10, 25, 5, 100, 1, 50]\n",
    "maximum_number = find_maximum_number(numbers)\n",
    "print(\"List of Numbers:\", numbers)\n",
    "print(\"Maximum Number:\", maximum_number)"
   ]
  },
  {
   "cell_type": "code",
   "execution_count": null,
   "id": "1a89b9d3",
   "metadata": {},
   "outputs": [],
   "source": [
    "**25-write a Python code to find the Minimum number of list of numbers."
   ]
  },
  {
   "cell_type": "code",
   "execution_count": 9,
   "id": "21f8cbd6",
   "metadata": {},
   "outputs": [
    {
     "name": "stdout",
     "output_type": "stream",
     "text": [
      "List of Numbers: [10, 25, 5, 100, 1, 50]\n",
      "Minimum Number: 1\n"
     ]
    }
   ],
   "source": [
    "def find_minimum_number(numbers_list):\n",
    "    if len(numbers_list) == 0:\n",
    "        return None\n",
    "    else:\n",
    "        return min(numbers_list)\n",
    "numbers = [10, 25, 5, 100, 1, 50]\n",
    "minimum_number = find_minimum_number(numbers)\n",
    "print(\"List of Numbers:\", numbers)\n",
    "print(\"Minimum Number:\", minimum_number)"
   ]
  },
  {
   "cell_type": "markdown",
   "id": "96822d96",
   "metadata": {},
   "source": [
    "**26-search for if an elem is existing in list"
   ]
  },
  {
   "cell_type": "code",
   "execution_count": 10,
   "id": "51ca5c9a",
   "metadata": {},
   "outputs": [
    {
     "name": "stdout",
     "output_type": "stream",
     "text": [
      "List: [1, 2, 3, 4, 5]\n",
      "Element 3 exists in list? True\n"
     ]
    }
   ],
   "source": [
    "def check_element_in_list(elem, lst):\n",
    "    return elem in lst\n",
    "numbers = [1, 2, 3, 4, 5]\n",
    "element_to_check = 3\n",
    "result = check_element_in_list(element_to_check, numbers)\n",
    "print(\"List:\", numbers)\n",
    "print(f\"Element {element_to_check} exists in list? {result}\")\n"
   ]
  },
  {
   "cell_type": "markdown",
   "id": "d9557da7",
   "metadata": {},
   "source": [
    "**27- clear python list using different ways"
   ]
  },
  {
   "cell_type": "code",
   "execution_count": 11,
   "id": "b69858a3",
   "metadata": {},
   "outputs": [
    {
     "name": "stdout",
     "output_type": "stream",
     "text": [
      "List after clear using clear(): []\n"
     ]
    }
   ],
   "source": [
    "my_list = [1, 2, 3, 4, 5]\n",
    "my_list.clear()\n",
    "print(\"List after clear using clear():\", my_list)"
   ]
  },
  {
   "cell_type": "markdown",
   "id": "52160e88",
   "metadata": {},
   "source": [
    "**28-remove duplicated elements from a list"
   ]
  },
  {
   "cell_type": "code",
   "execution_count": 12,
   "id": "5e362228",
   "metadata": {},
   "outputs": [
    {
     "name": "stdout",
     "output_type": "stream",
     "text": [
      "Original List: [1, 2, 2, 3, 4, 4, 5]\n",
      "List after removing duplicates: [1, 2, 3, 4, 5]\n"
     ]
    }
   ],
   "source": [
    "def remove_duplicates(lst):\n",
    "    return list(set(lst))\n",
    "my_list = [1, 2, 2, 3, 4, 4, 5]\n",
    "unique_list = remove_duplicates(my_list)\n",
    "print(\"Original List:\", my_list)\n",
    "print(\"List after removing duplicates:\", unique_list)"
   ]
  },
  {
   "cell_type": "markdown",
   "id": "282337f7",
   "metadata": {},
   "source": [
    "**29-Given list values and keys list, convert these values to key value pairs in form of list of dictionaries. (Input : test_list = [“Gfg”, 3, “is”, 8], key_list = [“name”, “id”]\n",
    "Output : [{‘name’: ‘Gfg’, ‘id’: 3}, {‘name’: ‘is’, ‘id’: 8}])"
   ]
  },
  {
   "cell_type": "code",
   "execution_count": 13,
   "id": "4d4e2d28",
   "metadata": {},
   "outputs": [
    {
     "name": "stdout",
     "output_type": "stream",
     "text": [
      "[{'name': 'Gfg', 'id': 3}, {'name': 'is', 'id': 8}]\n"
     ]
    }
   ],
   "source": [
    "def convert_to_list_of_dicts(test_list, key_list):\n",
    "    num_keys = len(key_list)\n",
    "    num_elements = len(test_list) // num_keys\n",
    "    result = []\n",
    "    for i in range(num_elements):\n",
    "        sub_dict = {key_list[j]: test_list[i * num_keys + j] for j in range(num_keys)}\n",
    "        result.append(sub_dict)\n",
    "    return result\n",
    "test_list = [\"Gfg\", 3, \"is\", 8]\n",
    "key_list = [\"name\", \"id\"]\n",
    "output_list_of_dicts = convert_to_list_of_dicts(test_list, key_list)\n",
    "print(output_list_of_dicts)\n"
   ]
  },
  {
   "cell_type": "markdown",
   "id": "c26b6e9f",
   "metadata": {},
   "source": [
    "**30-write a python program to count unique values inside a list using different ways"
   ]
  },
  {
   "cell_type": "code",
   "execution_count": 14,
   "id": "72132667",
   "metadata": {},
   "outputs": [
    {
     "name": "stdout",
     "output_type": "stream",
     "text": [
      "Number of unique values using set: 5\n"
     ]
    }
   ],
   "source": [
    "def count_unique_values_using_set(lst):\n",
    "    unique_values = set(lst)\n",
    "    return len(unique_values)\n",
    "my_list = [1, 2, 2, 3, 4, 4, 5]\n",
    "count = count_unique_values_using_set(my_list)\n",
    "print(\"Number of unique values using set:\", count)"
   ]
  },
  {
   "cell_type": "markdown",
   "id": "fed6677c",
   "metadata": {},
   "source": [
    "**31-write a python program Extract all elements with Frequency greater than K (Input : test_list = [4, 6, 4, 3, 3, 4, 3, 4, 3, 8], K = 3 \n",
    "Output : [4, 3] )"
   ]
  },
  {
   "cell_type": "code",
   "execution_count": 26,
   "id": "d81f3f9d",
   "metadata": {},
   "outputs": [
    {
     "name": "stdout",
     "output_type": "stream",
     "text": [
      "Output: [4, 3]\n"
     ]
    }
   ],
   "source": [
    "def extract_elements_with_frequency_greater_than_k(test_list, K):\n",
    "    # Count occurrences of elements in the list using a dictionary\n",
    "    element_count = {}\n",
    "    for element in test_list:\n",
    "        element_count[element] = element_count.get(element, 0) + 1\n",
    "\n",
    "    # Extract elements with frequency greater than K\n",
    "    result = [element for element, count in element_count.items() if count > K]\n",
    "\n",
    "    return result\n",
    "\n",
    "# Sample usage\n",
    "test_list = [4, 6, 4, 3, 3, 4, 3, 4, 3, 8]\n",
    "K = 3\n",
    "\n",
    "output = extract_elements_with_frequency_greater_than_k(test_list, K)\n",
    "print(\"Output:\", output)\n"
   ]
  },
  {
   "cell_type": "markdown",
   "id": "caca5224",
   "metadata": {},
   "source": [
    "**32-write a python program to find the Strongest Neighbour (Input: 1 2 2 3 4 5\n",
    "Output: 2 2 3 4 5)"
   ]
  },
  {
   "cell_type": "code",
   "execution_count": 27,
   "id": "39fbd9b2",
   "metadata": {},
   "outputs": [
    {
     "name": "stdout",
     "output_type": "stream",
     "text": [
      "Strongest Neighbors: []\n"
     ]
    }
   ],
   "source": [
    "def find_strongest_neighbors(input_list):\n",
    "    strongest_neighbors = []\n",
    "\n",
    "    for i in range(1, len(input_list) - 1):\n",
    "        if input_list[i] > input_list[i - 1] and input_list[i] > input_list[i + 1]:\n",
    "            strongest_neighbors.append(input_list[i])\n",
    "\n",
    "    return strongest_neighbors\n",
    "\n",
    "# Sample input\n",
    "input_list = [1, 2, 2, 3, 4, 5]\n",
    "\n",
    "# Find the strongest neighbors\n",
    "result = find_strongest_neighbors(input_list)\n",
    "print(\"Strongest Neighbors:\", result)\n"
   ]
  },
  {
   "cell_type": "markdown",
   "id": "a9fa8baf",
   "metadata": {},
   "source": [
    "**33-write a Python Program to print all Possible Combinations from the three Digits (Input: [1, 2, 3]\n",
    "Output:\n",
    "1 2 3 ##\n",
    "1 3 2 ##\n",
    "2 1 3 ##\n",
    "2 3 1 ##\n",
    "3 1 2 ##\n",
    "3 2 1)"
   ]
  },
  {
   "cell_type": "code",
   "execution_count": 28,
   "id": "8c520a76",
   "metadata": {},
   "outputs": [
    {
     "name": "stdout",
     "output_type": "stream",
     "text": [
      "1 2 3\n",
      "1 3 2\n",
      "2 1 3\n",
      "2 3 1\n",
      "3 1 2\n",
      "3 2 1\n"
     ]
    }
   ],
   "source": [
    "from itertools import permutations\n",
    "\n",
    "def print_all_combinations(input_list):\n",
    "    for perm in permutations(input_list):\n",
    "        print(\" \".join(str(num) for num in perm))\n",
    "\n",
    "# Sample input\n",
    "input_list = [1, 2, 3]\n",
    "\n",
    "# Print all possible combinations\n",
    "print_all_combinations(input_list)\n"
   ]
  },
  {
   "cell_type": "markdown",
   "id": "5288bb89",
   "metadata": {},
   "source": [
    "**34-write a Python program to find all the Combinations in the list with the given condition (Input: test_list = [1,2,3] \n",
    "Output: \n",
    " [1], [1, 2], [1, 2, 3], [1, 3]\n",
    " [2], [2, 3], [3])"
   ]
  },
  {
   "cell_type": "code",
   "execution_count": 29,
   "id": "59b89646",
   "metadata": {},
   "outputs": [
    {
     "name": "stdout",
     "output_type": "stream",
     "text": [
      "Output: [[1], [1, 2], [1, 2, 3], [2], [2, 3], [3]]\n"
     ]
    }
   ],
   "source": [
    "def find_combinations(input_list):\n",
    "    combinations = []\n",
    "\n",
    "    for i in range(len(input_list)):\n",
    "        for j in range(i + 1, len(input_list) + 1):\n",
    "            sub_list = input_list[i:j]\n",
    "            combinations.append(sub_list)\n",
    "\n",
    "    return combinations\n",
    "\n",
    "# Sample input\n",
    "test_list = [1, 2, 3]\n",
    "\n",
    "# Find all combinations\n",
    "result = find_combinations(test_list)\n",
    "print(\"Output:\", result)\n"
   ]
  },
  {
   "cell_type": "markdown",
   "id": "39973705",
   "metadata": {},
   "source": [
    "**35-write a Python program to get all unique combinations of two Lists (List_1 = [\"a\",\"b\"]\n",
    "List_2 = [1,2]\n",
    "Unique_combination = [[('a',1),('b',2)],[('a',2),('b',1)]] )"
   ]
  },
  {
   "cell_type": "code",
   "execution_count": null,
   "id": "8c4ba22b",
   "metadata": {},
   "outputs": [],
   "source": []
  },
  {
   "cell_type": "markdown",
   "id": "25199af5",
   "metadata": {},
   "source": [
    "**36-Remove all the occurrences of an element from a list in Python (Input : 1 1 2 3 4 5 1 2 1 \n",
    "\n",
    "**Output : 2 3 4 5 2)"
   ]
  },
  {
   "cell_type": "code",
   "execution_count": null,
   "id": "6dc4c2ba",
   "metadata": {},
   "outputs": [],
   "source": []
  },
  {
   "cell_type": "markdown",
   "id": "bf1a3c93",
   "metadata": {},
   "source": [
    "**37-write a python program to Replace index elements with elements in Other List (The original list 1 is : [‘Gfg’, ‘is’, ‘best’] The original list 2 is : [0, 1, 2, 1, 0, 0, 0, 2, 1, 1, 2, 0] The lists after index elements replacements is : [‘Gfg’, ‘is’, ‘best’, ‘is’, ‘Gfg’, ‘Gfg’, ‘Gfg’, ‘best’, ‘is’, ‘is’, ‘best’, ‘Gfg’])"
   ]
  },
  {
   "cell_type": "code",
   "execution_count": null,
   "id": "fdd66a71",
   "metadata": {},
   "outputs": [],
   "source": []
  },
  {
   "cell_type": "markdown",
   "id": "af0f56e8",
   "metadata": {},
   "source": [
    "**38- write python program to Retain records with N occurrences of K(Input : test_list = [(4, 5, 5, 4), (5, 4, 3)], K = 5, N = 2 \n",
    "Output : [(4, 5, 5, 4)]\n",
    "Input : test_list = [(4, 5, 5, 4), (5, 4, 3)], K = 5, N = 3 \n",
    "Output : [] )"
   ]
  },
  {
   "cell_type": "code",
   "execution_count": null,
   "id": "67b06671",
   "metadata": {},
   "outputs": [],
   "source": []
  },
  {
   "cell_type": "markdown",
   "id": "de76f183",
   "metadata": {},
   "source": [
    "**39-write a Python Program to Sort the list according to the column using lambda\n",
    "array = [[1, 3, 3], [2, 1, 2], [3, 2, 1]]\n",
    "Output :\n",
    "Sorted array specific to column 0, [[1, 3, 3], [2, 1, 2], [3, 2, 1]]\n",
    "Sorted array specific to column 1, [[2, 1, 2], [3, 2, 1], [1, 3, 3]]\n",
    "Sorted array specific to column 2, [[3, 2, 1], [2, 1, 2], [1, 3, 3]]"
   ]
  },
  {
   "cell_type": "code",
   "execution_count": null,
   "id": "dc883308",
   "metadata": {},
   "outputs": [],
   "source": []
  },
  {
   "cell_type": "code",
   "execution_count": 16,
   "id": "d2e7b31f",
   "metadata": {},
   "outputs": [
    {
     "ename": "SyntaxError",
     "evalue": "invalid syntax (1197306156.py, line 1)",
     "output_type": "error",
     "traceback": [
      "\u001b[1;36m  Cell \u001b[1;32mIn[16], line 1\u001b[1;36m\u001b[0m\n\u001b[1;33m    **40- write a program to Sort Python Dictionaries by Key or Value\u001b[0m\n\u001b[1;37m    ^\u001b[0m\n\u001b[1;31mSyntaxError\u001b[0m\u001b[1;31m:\u001b[0m invalid syntax\n"
     ]
    }
   ],
   "source": [
    "**40- write a program to Sort Python Dictionaries by Key or Value\n",
    "Input:{'ravi': 10, 'rajnish': 9, 'sanjeev': 15, 'yash': 2, 'suraj': 32}\n",
    "Output: {'rajnish': 9, 'ravi': 10, 'sanjeev': 15, 'suraj': 32, 'yash': 2}"
   ]
  },
  {
   "cell_type": "code",
   "execution_count": 19,
   "id": "a96db4a0",
   "metadata": {},
   "outputs": [
    {
     "name": "stdout",
     "output_type": "stream",
     "text": [
      "Sorted by Key: {'rajnish': 9, 'ravi': 10, 'sanjeev': 15, 'suraj': 32, 'yash': 2}\n",
      "Sorted by Value: {'yash': 2, 'rajnish': 9, 'ravi': 10, 'sanjeev': 15, 'suraj': 32}\n"
     ]
    }
   ],
   "source": [
    "def sort_dict_by_key(input_dict):\n",
    "    return {k: input_dict[k] for k in sorted(input_dict)}\n",
    "\n",
    "def sort_dict_by_value(input_dict):\n",
    "    return {k: v for k, v in sorted(input_dict.items(), key=lambda item: item[1])}\n",
    "\n",
    "# Sample input\n",
    "input_dict = {'ravi': 10, 'rajnish': 9, 'sanjeev': 15, 'yash': 2, 'suraj': 32}\n",
    "\n",
    "# Sort by key\n",
    "sorted_by_key = sort_dict_by_key(input_dict)\n",
    "print(\"Sorted by Key:\", sorted_by_key)\n",
    "\n",
    "# Sort by value\n",
    "sorted_by_value = sort_dict_by_value(input_dict)\n",
    "print(\"Sorted by Value:\", sorted_by_value)\n"
   ]
  },
  {
   "cell_type": "markdown",
   "id": "ec63c23a",
   "metadata": {},
   "source": [
    "**41-write python program to Remove keys with Values Greater than K ( Including mixed values )\n",
    "nput : test_dict = {‘Gfg’ : 3, ‘is’ : 7, ‘best’ : 10, ‘for’ : 6, ‘geeks’ : ‘CS’},\n",
    "K = 7 \n",
    "Output : {‘Gfg’ : 3, ‘for’ : 6, ‘geeks’ : ‘CS’}"
   ]
  },
  {
   "cell_type": "code",
   "execution_count": 15,
   "id": "e39c3a40",
   "metadata": {},
   "outputs": [
    {
     "name": "stdout",
     "output_type": "stream",
     "text": [
      "{'Gfg': 3, 'is': 7, 'for': 6, 'geeks': 'CS'}\n"
     ]
    }
   ],
   "source": [
    "def remove_keys_greater_than_k(test_dict, K):\n",
    "    result_dict = {key: value for key, value in test_dict.items() if not (isinstance(value, int) and value > K)}\n",
    "    return result_dict\n",
    "test_dict = {'Gfg': 3, 'is': 7, 'best': 10, 'for': 6, 'geeks': 'CS'}\n",
    "K = 7\n",
    "output_dict = remove_keys_greater_than_k(test_dict, K)\n",
    "print(output_dict)"
   ]
  },
  {
   "cell_type": "markdown",
   "id": "f143f0fe",
   "metadata": {},
   "source": [
    "**42-Write a Python program to concatenate the following dictionaries to create a new one\n",
    "\n",
    "Sample Dictionary :\n",
    "dic1={1:10, 2:20}\n",
    "dic2={3:30, 4:40}\n",
    "dic3={5:50,6:60}\n",
    "Expected Result : {1: 10, 2: 20, 3: 30, 4: 40, 5: 50, 6: 60}"
   ]
  },
  {
   "cell_type": "code",
   "execution_count": null,
   "id": "74ffdfea",
   "metadata": {},
   "outputs": [],
   "source": []
  },
  {
   "cell_type": "markdown",
   "id": "fb04c93c",
   "metadata": {},
   "source": [
    "**43-Write a Python program to iterate over dictionaries using for loops"
   ]
  },
  {
   "cell_type": "code",
   "execution_count": null,
   "id": "6aebc470",
   "metadata": {},
   "outputs": [],
   "source": []
  },
  {
   "cell_type": "markdown",
   "id": "5f491a9d",
   "metadata": {},
   "source": [
    "**44- Write a Python script to merge two Python dictionaries"
   ]
  },
  {
   "cell_type": "code",
   "execution_count": null,
   "id": "b8a14028",
   "metadata": {},
   "outputs": [],
   "source": []
  },
  {
   "cell_type": "markdown",
   "id": "216fc72d",
   "metadata": {},
   "source": [
    "**45-Write a Python program to get the maximum and minimum values of a dictionary values"
   ]
  },
  {
   "cell_type": "code",
   "execution_count": null,
   "id": "d6883f5f",
   "metadata": {},
   "outputs": [],
   "source": []
  },
  {
   "cell_type": "markdown",
   "id": "b6a53011",
   "metadata": {},
   "source": [
    "**46- Write a Python program to drop empty items from a given dictionary.\n",
    "Original Dictionary:\n",
    "{'c1': 'Red', 'c2': 'Green', 'c3': None}\n",
    "New Dictionary after dropping empty items:\n",
    "{'c1': 'Red', 'c2': 'Green'}"
   ]
  },
  {
   "cell_type": "code",
   "execution_count": null,
   "id": "b5c6fecf",
   "metadata": {},
   "outputs": [],
   "source": []
  },
  {
   "cell_type": "markdown",
   "id": "46d718c7",
   "metadata": {},
   "source": [
    "**47-Write a Python program to create a tuple of numbers and print one item"
   ]
  },
  {
   "cell_type": "code",
   "execution_count": null,
   "id": "13216ff5",
   "metadata": {},
   "outputs": [],
   "source": []
  },
  {
   "cell_type": "markdown",
   "id": "2be5b56b",
   "metadata": {},
   "source": [
    "**48-Write a Python program to unpack a tuple into several variables"
   ]
  },
  {
   "cell_type": "code",
   "execution_count": null,
   "id": "595f44be",
   "metadata": {},
   "outputs": [],
   "source": []
  },
  {
   "cell_type": "markdown",
   "id": "392388a7",
   "metadata": {},
   "source": [
    "**49-Write a Python program to add an item to a tuple"
   ]
  },
  {
   "cell_type": "code",
   "execution_count": null,
   "id": "54cc092e",
   "metadata": {},
   "outputs": [],
   "source": []
  },
  {
   "cell_type": "markdown",
   "id": "3e8fd124",
   "metadata": {},
   "source": [
    "**50-Write a Python program to convert a tuple to a string"
   ]
  },
  {
   "cell_type": "code",
   "execution_count": null,
   "id": "92a71ddc",
   "metadata": {},
   "outputs": [],
   "source": []
  },
  {
   "cell_type": "markdown",
   "id": "f4f64ef4",
   "metadata": {},
   "source": [
    "**51-Write a Python program to convert a list to a tuple"
   ]
  },
  {
   "cell_type": "code",
   "execution_count": null,
   "id": "210d56d3",
   "metadata": {},
   "outputs": [],
   "source": []
  },
  {
   "cell_type": "markdown",
   "id": "b1e00ef7",
   "metadata": {},
   "source": [
    "**52-Write a Python program to reverse a tuple"
   ]
  },
  {
   "cell_type": "code",
   "execution_count": null,
   "id": "f45bfdc7",
   "metadata": {},
   "outputs": [],
   "source": []
  },
  {
   "cell_type": "markdown",
   "id": "3cd347d1",
   "metadata": {},
   "source": [
    "**53-Write a Python program to replace the last value of tuples in a list.\n",
    "Sample list: [(10, 20, 40), (40, 50, 60), (70, 80, 90)]\n",
    "Expected Output: [(10, 20, 100), (40, 50, 100), (70, 80, 100)]"
   ]
  },
  {
   "cell_type": "code",
   "execution_count": null,
   "id": "3c4a2a4c",
   "metadata": {},
   "outputs": [],
   "source": []
  },
  {
   "cell_type": "markdown",
   "id": "76bb7b39",
   "metadata": {},
   "source": [
    "**54-Write a Python program to convert a given string list to a tuple\n",
    "Original string: python 3.0\n",
    "<class 'str'>\n",
    "Convert the said string to a tuple:\n",
    "('p', 'y', 't', 'h', 'o', 'n', '3', '.', '0')"
   ]
  },
  {
   "cell_type": "code",
   "execution_count": null,
   "id": "51951937",
   "metadata": {},
   "outputs": [],
   "source": []
  },
  {
   "cell_type": "markdown",
   "id": "5a1d5d97",
   "metadata": {},
   "source": [
    "**55-Write a Python program to calculate the average value of the numbers in a given tuple of tuples"
   ]
  },
  {
   "cell_type": "code",
   "execution_count": 25,
   "id": "834e7992",
   "metadata": {},
   "outputs": [
    {
     "name": "stdout",
     "output_type": "stream",
     "text": [
      "Average value: 5.0\n"
     ]
    }
   ],
   "source": [
    "def average_of_tuples(tuples_of_tuples):\n",
    "    # Flatten the tuple of tuples into a single list\n",
    "    all_numbers = [num for tuple in tuples_of_tuples for num in tuple]\n",
    "    # Calculate the sum of all the numbers\n",
    "    total_sum = sum(all_numbers)\n",
    "    # Calculate the average\n",
    "    average = total_sum / len(all_numbers)\n",
    "    return average\n",
    "# Sample tuple of tuples\n",
    "tuple_of_tuples = ((1, 2, 3), (4, 5, 6), (7, 8, 9))\n",
    "# Calculate the average value\n",
    "average_value = average_of_tuples(tuple_of_tuples)\n",
    "print(\"Average value:\", average_value)\n"
   ]
  },
  {
   "cell_type": "markdown",
   "id": "51edab9c",
   "metadata": {},
   "source": [
    "**56-Write a Python program to add member(s) to a set."
   ]
  },
  {
   "cell_type": "code",
   "execution_count": 24,
   "id": "2b65df79",
   "metadata": {},
   "outputs": [
    {
     "name": "stdout",
     "output_type": "stream",
     "text": [
      "Member '4' added to the set.\n",
      "Set after addition: {1, 2, 3, 4}\n"
     ]
    }
   ],
   "source": [
    "def add_single_member_to_set(my_set, member):\n",
    "    my_set.add(member)\n",
    "    print(f\"Member '{member}' added to the set.\")\n",
    "my_set = {1, 2, 3}\n",
    "member_to_add = 4\n",
    "add_single_member_to_set(my_set, member_to_add)\n",
    "print(\"Set after addition:\", my_set)\n"
   ]
  },
  {
   "cell_type": "markdown",
   "id": "965590cc",
   "metadata": {},
   "source": [
    "**57-Write a Python program to remove an item from a set if it is present in the set."
   ]
  },
  {
   "cell_type": "code",
   "execution_count": 23,
   "id": "866bab28",
   "metadata": {},
   "outputs": [
    {
     "name": "stdout",
     "output_type": "stream",
     "text": [
      "Item '3' removed from the set.\n",
      "Set after removal: {1, 2, 4, 5}\n"
     ]
    }
   ],
   "source": [
    "def remove_item_from_set(my_set, item):\n",
    "    try:\n",
    "        my_set.remove(item)\n",
    "        print(f\"Item '{item}' removed from the set.\")\n",
    "    except KeyError:\n",
    "        print(f\"Item '{item}' is not present in the set.\")\n",
    "\n",
    "# Sample set\n",
    "my_set = {1, 2, 3, 4, 5}\n",
    "\n",
    "# Item to remove\n",
    "item_to_remove = 3\n",
    "\n",
    "# Remove the item from the set\n",
    "remove_item_from_set(my_set, item_to_remove)\n",
    "\n",
    "# Display the set after removal (optional)\n",
    "print(\"Set after removal:\", my_set)\n",
    "\n"
   ]
  },
  {
   "cell_type": "markdown",
   "id": "2b7cfed1",
   "metadata": {},
   "source": [
    "**58-Write a Python program to create an intersection,union,difference and symmetric difference of sets"
   ]
  },
  {
   "cell_type": "code",
   "execution_count": 22,
   "id": "7f94b7fe",
   "metadata": {},
   "outputs": [
    {
     "name": "stdout",
     "output_type": "stream",
     "text": [
      "Intersection: {4, 5}\n",
      "Union: {1, 2, 3, 4, 5, 6, 7, 8}\n",
      "Difference (set1 - set2): {1, 2, 3}\n",
      "Symmetric Difference: {1, 2, 3, 6, 7, 8}\n"
     ]
    }
   ],
   "source": [
    "# Sample sets\n",
    "set1 = {1, 2, 3, 4, 5}\n",
    "set2 = {4, 5, 6, 7, 8}\n",
    "\n",
    "# Intersection of sets\n",
    "intersection_set = set1.intersection(set2)\n",
    "print(\"Intersection:\", intersection_set)\n",
    "\n",
    "# Union of sets\n",
    "union_set = set1.union(set2)\n",
    "print(\"Union:\", union_set)\n",
    "\n",
    "# Difference of sets\n",
    "difference_set = set1.difference(set2)\n",
    "print(\"Difference (set1 - set2):\", difference_set)\n",
    "\n",
    "# Symmetric Difference of sets\n",
    "symmetric_difference_set = set1.symmetric_difference(set2)\n",
    "print(\"Symmetric Difference:\", symmetric_difference_set)\n"
   ]
  },
  {
   "cell_type": "markdown",
   "id": "b94931e2",
   "metadata": {},
   "source": [
    "**59-Write a Python program to find the maximum and minimum values in a set"
   ]
  },
  {
   "cell_type": "code",
   "execution_count": 21,
   "id": "203f9600",
   "metadata": {},
   "outputs": [
    {
     "name": "stdout",
     "output_type": "stream",
     "text": [
      "Set: {1, 50, 100, 5, 25, 10}\n",
      "Maximum Value: 100\n",
      "Minimum Value: 1\n"
     ]
    }
   ],
   "source": [
    "def find_max_min_in_set(input_set):\n",
    "    if not input_set:\n",
    "        return None, None\n",
    "\n",
    "    max_value = max(input_set)\n",
    "    min_value = min(input_set)\n",
    "    return max_value, min_value\n",
    "\n",
    "# Sample usage\n",
    "my_set = {10, 25, 5, 100, 1, 50}\n",
    "max_value, min_value = find_max_min_in_set(my_set)\n",
    "\n",
    "print(\"Set:\", my_set)\n",
    "print(\"Maximum Value:\", max_value)\n",
    "print(\"Minimum Value:\", min_value)\n"
   ]
  },
  {
   "cell_type": "markdown",
   "id": "255fd554",
   "metadata": {},
   "source": [
    "**60- Write a Python program that finds all pairs of elements in a list whose sum is equal to a given value."
   ]
  },
  {
   "cell_type": "code",
   "execution_count": 20,
   "id": "c2d94e1f",
   "metadata": {},
   "outputs": [
    {
     "name": "stdout",
     "output_type": "stream",
     "text": [
      "Pairs with sum 7 : [(1, 6), (2, 5), (3, 4)]\n"
     ]
    }
   ],
   "source": [
    "def find_pairs_with_sum(lst, target_sum):\n",
    "    pairs = []\n",
    "\n",
    "    for i in range(len(lst)):\n",
    "        for j in range(i + 1, len(lst)):\n",
    "            if lst[i] + lst[j] == target_sum:\n",
    "                pairs.append((lst[i], lst[j]))\n",
    "    return pairs\n",
    "# Sample usage\n",
    "numbers_list = [1, 2, 3, 4, 5, 6]\n",
    "target_sum = 7\n",
    "result = find_pairs_with_sum(numbers_list, target_sum)\n",
    "print(\"Pairs with sum\", target_sum, \":\", result)\n"
   ]
  }
 ],
 "metadata": {
  "kernelspec": {
   "display_name": "Python 3 (ipykernel)",
   "language": "python",
   "name": "python3"
  },
  "language_info": {
   "codemirror_mode": {
    "name": "ipython",
    "version": 3
   },
   "file_extension": ".py",
   "mimetype": "text/x-python",
   "name": "python",
   "nbconvert_exporter": "python",
   "pygments_lexer": "ipython3",
   "version": "3.11.3"
  }
 },
 "nbformat": 4,
 "nbformat_minor": 5
}
